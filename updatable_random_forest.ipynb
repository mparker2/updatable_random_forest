{
 "cells": [
  {
   "cell_type": "markdown",
   "metadata": {},
   "source": [
    "## Updatable, weighted Random Forests\n",
    "\n",
    "We are interested in producing a method for introducing new data into an existing Random Forest model. This data will come in the form of user provided feedback on the original model, and so we are also interested in being able to weight new training data more strongly.  \n",
    "\n",
    "One idea would be to append new trees trained with the new data onto the end of the existing forest. The votes from these trees could be given higher weighting than the original trees, as a way of increasing the weight of the new data over the old.\n",
    "\n",
    "NB we are interested in implementing this in R using the package `randomForest`, however here I have quickly hacked together an example in python using `sklearn`."
   ]
  },
  {
   "cell_type": "code",
   "execution_count": 1,
   "metadata": {
    "collapsed": false
   },
   "outputs": [],
   "source": [
    "import numpy as np\n",
    "from sklearn.datasets import load_iris\n",
    "from sklearn.ensemble import RandomForestClassifier\n",
    "from sklearn.model_selection import train_test_split\n",
    "from scipy.stats import mode\n",
    "from sklearn.ensemble.forest import _partition_estimators, parallel_helper\n",
    "from sklearn.tree._tree import DTYPE\n",
    "from sklearn.externals.joblib import Parallel, delayed\n",
    "from sklearn.utils import check_array\n",
    "from sklearn.utils.validation import check_is_fitted\n",
    "from sklearn.metrics import confusion_matrix"
   ]
  },
  {
   "cell_type": "markdown",
   "metadata": {},
   "source": [
    "I have extended the existing `RandomForestClassifier` from `sklearn` to include a function to allow prediction from votes rather than probability (modified from [this SE question](http://stats.stackexchange.com/questions/127077/random-forest-probabilistic-prediction-vs-majority-vote/148610#148610)), and to allow the addition of new trees."
   ]
  },
  {
   "cell_type": "code",
   "execution_count": 2,
   "metadata": {
    "collapsed": false
   },
   "outputs": [],
   "source": [
    "class UpdatableRandomForestClassifier(RandomForestClassifier):\n",
    "    \n",
    "    def __init__(self, **kwargs):\n",
    "        # set initial vote weight\n",
    "        init_vote_weight = kwargs.pop('init_vote_weight', 1)\n",
    "        super(UpdatableRandomForestClassifier, self).__init__(**kwargs)\n",
    "        self.vote_weights = np.repeat(init_vote_weight, self.n_estimators)\n",
    "    \n",
    "    def fit_new_data(self, X, y, vote_weight=1, **kwargs):\n",
    "        '''\n",
    "        Fit new data independently using n_estimators and append these to the\n",
    "        existing random forest model.\n",
    "        '''\n",
    "        new_trees = RandomForestClassifier(**kwargs).fit(X=X, y=y)\n",
    "        new_tree_weights = np.repeat(vote_weight, new_trees.n_estimators)\n",
    "        self.n_estimators += new_trees.n_estimators\n",
    "        self.estimators_ += new_trees.estimators_\n",
    "        self.vote_weights = np.concatenate([self.vote_weights,\n",
    "                                            new_tree_weights])\n",
    "\n",
    "    def predict_votes(self, X):\n",
    "        \"\"\"\n",
    "        Predict class for X.\n",
    "\n",
    "        Uses majority voting, rather than the soft voting scheme\n",
    "        used by RandomForestClassifier.predict.\n",
    "        \"\"\"\n",
    "        check_is_fitted(self, 'n_outputs_')\n",
    "\n",
    "        # Check data\n",
    "        X = check_array(X, dtype=DTYPE, accept_sparse=\"csr\")\n",
    "\n",
    "        # Assign chunk of trees to jobs\n",
    "        n_jobs, n_trees, starts = _partition_estimators(self.n_estimators,\n",
    "                                                        self.n_jobs)\n",
    "\n",
    "        # Parallel loop\n",
    "        all_preds = Parallel(n_jobs=n_jobs, verbose=self.verbose,\n",
    "                             backend=\"threading\")(\n",
    "            delayed(parallel_helper)(e, 'predict', X, check_input=False)\n",
    "            for e in self.estimators_)\n",
    "        \n",
    "        # weight predictions from old / new trees\n",
    "        all_preds = np.repeat(all_preds, self.vote_weights, axis=0)\n",
    "        \n",
    "        # calculate modes from weighted votes\n",
    "        modes, _ = mode(all_preds, axis=0)\n",
    "        modes = np.array(modes[0]).astype('int64')\n",
    "        return self.classes_.take(modes, axis=0)\n",
    "    \n",
    "    def score_votes(self, X, y):\n",
    "        '''\n",
    "        Score accuracy using predict_votes\n",
    "        '''\n",
    "        return sum(rf.predict_votes(X) == y) / len(y)"
   ]
  },
  {
   "cell_type": "markdown",
   "metadata": {},
   "source": [
    "I have used the iris dataset as an example"
   ]
  },
  {
   "cell_type": "code",
   "execution_count": 3,
   "metadata": {
    "collapsed": false
   },
   "outputs": [],
   "source": [
    "# split data into 1/4 initial training, 1/4 subsequent training and 1/2 test\n",
    "iris = load_iris()\n",
    "# only use last two variables to train\n",
    "iris.data = iris.data[:, 2:]\n",
    "X_train1, X_train2, y_train1, y_train2 = train_test_split(\n",
    "    iris.data, iris.target, test_size=0.75, random_state=0\n",
    ")\n",
    "X_train2, X_test, y_train2, y_test = train_test_split(\n",
    "    X_train2, y_train2, test_size=0.66, random_state=0\n",
    ")\n"
   ]
  },
  {
   "cell_type": "code",
   "execution_count": 4,
   "metadata": {
    "collapsed": false
   },
   "outputs": [
    {
     "name": "stdout",
     "output_type": "stream",
     "text": [
      "accuracy: 0.88\n",
      "confusion matrix:\n",
      "[[24  0  0]\n",
      " [ 0 23  9]\n",
      " [ 0  0 19]]\n"
     ]
    }
   ],
   "source": [
    "rf = UpdatableRandomForestClassifier(n_estimators=10,\n",
    "                                     init_vote_weight=1,\n",
    "                                     random_state=0)\n",
    "rf = rf.fit(X_train1, y_train1)\n",
    "print('accuracy:', rf.score_votes(X_test, y_test))\n",
    "print('confusion matrix:')\n",
    "print(confusion_matrix(rf.predict_votes(X_test), y_test))"
   ]
  },
  {
   "cell_type": "code",
   "execution_count": 5,
   "metadata": {
    "collapsed": false
   },
   "outputs": [
    {
     "name": "stdout",
     "output_type": "stream",
     "text": [
      "accuracy: 0.893333333333\n",
      "confusion matrix:\n",
      "[[24  0  0]\n",
      " [ 0 23  8]\n",
      " [ 0  0 20]]\n"
     ]
    }
   ],
   "source": [
    "# introduce new trees from new data and use double the weighting over old trees\n",
    "rf.fit_new_data(X_train2, y_train2, vote_weight=2, n_estimators=10)\n",
    "print('accuracy:', rf.score_votes(X_test, y_test))\n",
    "print('confusion matrix:')\n",
    "print(confusion_matrix(rf.predict_votes(X_test), y_test))"
   ]
  },
  {
   "cell_type": "markdown",
   "metadata": {},
   "source": []
  }
 ],
 "metadata": {
  "hide_input": false,
  "kernelspec": {
   "display_name": "Python 3",
   "language": "python",
   "name": "python3"
  },
  "language_info": {
   "codemirror_mode": {
    "name": "ipython",
    "version": 3
   },
   "file_extension": ".py",
   "mimetype": "text/x-python",
   "name": "python",
   "nbconvert_exporter": "python",
   "pygments_lexer": "ipython3",
   "version": "3.5.3"
  },
  "toc": {
   "toc_cell": false,
   "toc_number_sections": true,
   "toc_threshold": 6,
   "toc_window_display": false
  }
 },
 "nbformat": 4,
 "nbformat_minor": 2
}
